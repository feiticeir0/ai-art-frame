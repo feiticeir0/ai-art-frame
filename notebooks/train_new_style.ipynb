{
 "cells": [
  {
   "cell_type": "markdown",
   "metadata": {},
   "source": [
    "# Train a new model"
   ]
  },
  {
   "cell_type": "markdown",
   "metadata": {},
   "source": [
    "To train a new model, we need to clone the examples repository from pytorch \n",
    "https://github.com/pytorch/examples"
   ]
  },
  {
   "cell_type": "code",
   "execution_count": null,
   "metadata": {},
   "outputs": [],
   "source": [
    "!git clone https://github.com/pytorch/examples"
   ]
  },
  {
   "cell_type": "code",
   "execution_count": null,
   "metadata": {},
   "outputs": [],
   "source": [
    "# go to directory\n",
    "%cd examples/fast_neural_style"
   ]
  },
  {
   "cell_type": "markdown",
   "metadata": {},
   "source": [
    "## Download dataset"
   ]
  },
  {
   "cell_type": "markdown",
   "metadata": {},
   "source": [
    "To train a new style, we need a style image and some pictures to train it in\n",
    "For this, i'm going to use the coco dataset 2017 "
   ]
  },
  {
   "cell_type": "code",
   "execution_count": null,
   "metadata": {},
   "outputs": [],
   "source": [
    "!wget http://images.cocodataset.org/zips/train2017.zip\n",
    "!mkdir train_images_coco2017\n",
    "!unzip train2017.zip -d train_images_coco2017\n",
    "#!rm train2017.zip"
   ]
  },
  {
   "cell_type": "code",
   "execution_count": null,
   "metadata": {},
   "outputs": [],
   "source": [
    "# download models\n",
    "!python download_saved_models.py"
   ]
  },
  {
   "cell_type": "markdown",
   "metadata": {},
   "source": [
    "Train the model\n",
    "Put yourt style image to replicate in images/style-images"
   ]
  },
  {
   "cell_type": "code",
   "execution_count": null,
   "metadata": {},
   "outputs": [],
   "source": [
    "#train a style\n",
    "!python neural_style/neural_style.py train --dataset train_images/ --style-image images/style-images/pop_art.png --save-model-dir saved_models/ --epochs 2 --cuda 1"
   ]
  },
  {
   "cell_type": "code",
   "execution_count": null,
   "metadata": {},
   "outputs": [],
   "source": [
    "# apply the new style to a image\n",
    "!python neural_style/neural_style.py eval --content-image images/content-images/testingImage.jpg --model saved_models/starry_night.model --output-image images/output-images/starryNight_testingImage.jpg --cuda 1"
   ]
  },
  {
   "cell_type": "code",
   "execution_count": null,
   "metadata": {},
   "outputs": [],
   "source": [
    "# apply the new style to a image\n",
    "!python neural_style/neural_style.py eval --content-image images/content-images/testingImage.jpg --model saved_models/mosaic.pth --output-image images/output-images/mosaic_testingImage.jpg --cuda 1"
   ]
  }
 ],
 "metadata": {
  "kernelspec": {
   "display_name": "artStyle",
   "language": "python",
   "name": "python3"
  },
  "language_info": {
   "codemirror_mode": {
    "name": "ipython",
    "version": 3
   },
   "file_extension": ".py",
   "mimetype": "text/x-python",
   "name": "python",
   "nbconvert_exporter": "python",
   "pygments_lexer": "ipython3",
   "version": "3.13.2"
  }
 },
 "nbformat": 4,
 "nbformat_minor": 2
}
