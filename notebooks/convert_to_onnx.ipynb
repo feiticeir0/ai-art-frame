{
 "cells": [
  {
   "cell_type": "markdown",
   "metadata": {},
   "source": [
    "Convert model to ONNX \n",
    "\n",
    "If it's a pth model, you need to converted to a fixed model - remove unused keys    "
   ]
  },
  {
   "cell_type": "code",
   "execution_count": null,
   "metadata": {},
   "outputs": [],
   "source": [
    "import torch\n",
    "import torchvision\n",
    "from examples.fast_neural_style.neural_style.transformer_net import TransformerNet"
   ]
  },
  {
   "cell_type": "code",
   "execution_count": null,
   "metadata": {},
   "outputs": [],
   "source": [
    "onnx_export_path = \"models_onnx\"\n",
    "fixed_models_path = \"fixed_models\"\n",
    "model_to_convert = \"pop_art.model\""
   ]
  },
  {
   "cell_type": "code",
   "execution_count": null,
   "metadata": {},
   "outputs": [],
   "source": [
    "# Load trained model\n",
    "device = torch.device('cpu')  # Use CPU for compatibility\n",
    "model = TransformerNet()\n",
    "model.load_state_dict(torch.load(fixed_models_path + \"/\" + model_to_convert, map_location=device))\n",
    "model.to(device)\n",
    "model.eval()"
   ]
  },
  {
   "cell_type": "code",
   "execution_count": null,
   "metadata": {},
   "outputs": [],
   "source": [
    "# Dummy input tensor with batch size 1, 3 color channels, 512x512 resolution\n",
    "dummy_input = torch.randn(1, 3, 512, 512).to(device)"
   ]
  },
  {
   "cell_type": "code",
   "execution_count": null,
   "metadata": {},
   "outputs": [],
   "source": [
    "# Export model to ONNX\n",
    "\n",
    "\n",
    "# Load trained model\n",
    "device = torch.device('cpu')  # Use CPU for compatibility\n",
    "model = TransformerNet()\n",
    "model.load_state_dict(torch.load(fixed_models_path + \"/\" + model_to_convert, map_location=device))\n",
    "model.to(device)\n",
    "model.eval()\n",
    "\n",
    "# Create a dummy input tensor with arbitrary size\n",
    "dummy_input = torch.randn(1, 3, 512, 512).to(device)  # The size here is just an example\n",
    "\n",
    "# Export the model with dynamic input sizes\n",
    "torch.onnx.export(\n",
    "    model,\n",
    "    dummy_input,\n",
    "    onnx_export_path + \"/pop_art.onnx\",\n",
    "    export_params=True,\n",
    "    opset_version=11,\n",
    "    input_names=[\"input_image\"],\n",
    "    output_names=[\"output_image\"],\n",
    "    dynamic_axes={\"input_image\": {2: \"height\", 3: \"width\"}, \"output_image\": {2: \"height\", 3: \"width\"}}\n",
    ")\n",
    "\n",
    "print(\"ONNX model with dynamic input sizes saved as candy.onnx\")\n"
   ]
  }
 ],
 "metadata": {
  "kernelspec": {
   "display_name": "artStyle",
   "language": "python",
   "name": "python3"
  },
  "language_info": {
   "codemirror_mode": {
    "name": "ipython",
    "version": 3
   },
   "file_extension": ".py",
   "mimetype": "text/x-python",
   "name": "python",
   "nbconvert_exporter": "python",
   "pygments_lexer": "ipython3",
   "version": "3.13.2"
  }
 },
 "nbformat": 4,
 "nbformat_minor": 2
}
